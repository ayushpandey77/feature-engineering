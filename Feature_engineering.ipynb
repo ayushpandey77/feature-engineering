{
  "nbformat": 4,
  "nbformat_minor": 0,
  "metadata": {
    "colab": {
      "provenance": []
    },
    "kernelspec": {
      "name": "python3",
      "display_name": "Python 3"
    },
    "language_info": {
      "name": "python"
    }
  },
  "cells": [
    {
      "cell_type": "markdown",
      "source": [
        "#theory question\n"
      ],
      "metadata": {
        "id": "-twpKYcwv6B8"
      }
    },
    {
      "cell_type": "markdown",
      "source": [
        "1. What is a parameter?\n",
        "\n",
        "=A parameter is a variable that is learned by the model during training (e.g., weights and biases in a neural network, slope & intercept in linear regression)."
      ],
      "metadata": {
        "id": "2A31URxZv5-Z"
      }
    },
    {
      "cell_type": "markdown",
      "source": [
        "2= What is correlation?\n",
        "\n",
        "=Correlation measures the linear relationship between two variables."
      ],
      "metadata": {
        "id": "x3AJfL1Rv57s"
      }
    },
    {
      "cell_type": "markdown",
      "source": [
        "3=What does negative correlation mean?\n",
        "\n",
        "=If one variable increases, the other decreases.\n",
        "\n"
      ],
      "metadata": {
        "id": "Vt1qcuQgv54s"
      }
    },
    {
      "cell_type": "markdown",
      "source": [
        "4=Define Machine Learning. What are the main components in Machine Learning?\n",
        "\n",
        "=ML is a branch of AI that allows systems to learn patterns from data and make predictions/decisions without explicit programming.\n",
        "\n",
        "Main components:\n",
        "\n",
        "Data\n",
        "\n",
        "Features\n",
        "\n",
        "Model (algorithm)\n",
        "\n",
        "Loss function\n",
        "\n",
        "Optimizer\n",
        "\n",
        "Evaluation metric"
      ],
      "metadata": {
        "id": "c_P4sxSIv51p"
      }
    },
    {
      "cell_type": "markdown",
      "source": [
        "5=How does loss value help in determining whether the model is good or not?\n",
        "\n",
        "=Loss measures the error between predicted and actual output.\n",
        "\n",
        "Lower loss = better model fit.\n",
        "\n",
        "High loss = underfitting or incorrect learning."
      ],
      "metadata": {
        "id": "nYCzR5aSv5yt"
      }
    },
    {
      "cell_type": "markdown",
      "source": [
        "6=What are continuous and categorical variables?\n",
        "\n",
        "Continuous variables: Numeric with infinite values (e.g., height, weight).\n",
        "\n",
        "Categorical variables: Represent labels or categories (e.g., gender, city)."
      ],
      "metadata": {
        "id": "2BmqOAKGv5v0"
      }
    },
    {
      "cell_type": "markdown",
      "source": [
        "7=How do we handle categorical variables in Machine Learning? What are the common techniques?\n",
        "\n",
        "=Label Encoding → Convert categories into numbers.\n",
        "\n",
        "One-Hot Encoding → Create binary columns for each category.\n",
        "\n",
        "Ordinal Encoding → Assign ordered values to ranked categories."
      ],
      "metadata": {
        "id": "NHa3TXbav5sx"
      }
    },
    {
      "cell_type": "markdown",
      "source": [
        "8=What do you mean by training and testing a dataset?\n",
        "\n",
        "=Training set: Used to train the model.\n",
        "\n",
        "Testing set: Used to evaluate model’s performance on unseen data."
      ],
      "metadata": {
        "id": "o694XcKhv5pu"
      }
    },
    {
      "cell_type": "markdown",
      "source": [
        "9=What is sklearn.preprocessing?\n",
        "\n",
        "=A scikit-learn module with preprocessing utilities like scaling, normalization, encoding, and transformation."
      ],
      "metadata": {
        "id": "HGTyH1cVv5mu"
      }
    },
    {
      "cell_type": "markdown",
      "source": [
        "10=What is a Test set?\n",
        "\n",
        "=A subset of data used only for evaluating model performance after training."
      ],
      "metadata": {
        "id": "O-A3oWstv5j4"
      }
    },
    {
      "cell_type": "markdown",
      "source": [
        "11=How do we split data for model fitting (training and testing) in Python?"
      ],
      "metadata": {
        "id": "sk74kN4zv5g5"
      }
    },
    {
      "cell_type": "code",
      "source": [
        "from sklearn.model_selection import train_test_split\n",
        "X_train, X_test, y_train, y_test = train_test_split(X, y, test_size=0.2, random_state=42)\n"
      ],
      "metadata": {
        "id": "P_6a4wB3y-N8"
      },
      "execution_count": null,
      "outputs": []
    },
    {
      "cell_type": "markdown",
      "source": [
        "12=How do you approach a Machine Learning problem?\n",
        "\n",
        "=Understand problem statement\n",
        "\n",
        "Collect and clean data\n",
        "\n",
        "Perform EDA\n",
        "\n",
        "Preprocess (handle missing values, encoding, scaling)\n",
        "\n",
        "Split data (train/test)\n",
        "\n",
        "Choose model\n",
        "\n",
        "Train and evaluate\n",
        "\n",
        "Tune hyperparameters\n",
        "\n",
        "Deploy"
      ],
      "metadata": {
        "id": "zl76ZaNkv5dW"
      }
    },
    {
      "cell_type": "markdown",
      "source": [
        "13=Why do we have to perform EDA before fitting a model to the data?\n",
        "\n",
        "=To understand data distribution, detect outliers, handle missing values, and explore correlations.\n",
        "\n",
        "Ensures better preprocessing and model accuracy."
      ],
      "metadata": {
        "id": "rLFMh3Dtv5Zt"
      }
    },
    {
      "cell_type": "markdown",
      "source": [
        "13=Why do we have to perform EDA before fitting a model to the data?\n",
        "\n",
        "=To understand data distribution, detect outliers, handle missing values, and explore correlations.\n",
        "\n",
        "Ensures better preprocessing and model accuracy."
      ],
      "metadata": {
        "id": "vZKk8o4gv5W4"
      }
    },
    {
      "cell_type": "markdown",
      "source": [
        "14=What is correlation?\n",
        "\n",
        "=same as Q2 → Linear relationship strength and direction between two variables."
      ],
      "metadata": {
        "id": "-J8Q1UH-v5T9"
      }
    },
    {
      "cell_type": "markdown",
      "source": [
        "15=What does negative correlation mean?\n",
        "\n",
        "=Same as Q3 → One increases while the other decreases.\n"
      ],
      "metadata": {
        "id": "eeuK5W4xv5RP"
      }
    },
    {
      "cell_type": "markdown",
      "source": [
        "16=How can you find correlation between variables in Python?"
      ],
      "metadata": {
        "id": "ZAu-bqy-v5OT"
      }
    },
    {
      "cell_type": "code",
      "source": [
        "import pandas as pd\n",
        "df.corr()   # correlation matrix\n"
      ],
      "metadata": {
        "colab": {
          "base_uri": "https://localhost:8080/",
          "height": 158
        },
        "id": "Xkm2KpAT1iqk",
        "outputId": "79c06b21-9ece-441b-e0f9-eb3776a0adbc"
      },
      "execution_count": 2,
      "outputs": [
        {
          "output_type": "error",
          "ename": "NameError",
          "evalue": "name 'df' is not defined",
          "traceback": [
            "\u001b[0;31m---------------------------------------------------------------------------\u001b[0m",
            "\u001b[0;31mNameError\u001b[0m                                 Traceback (most recent call last)",
            "\u001b[0;32m/tmp/ipython-input-765615296.py\u001b[0m in \u001b[0;36m<cell line: 0>\u001b[0;34m()\u001b[0m\n\u001b[1;32m      1\u001b[0m \u001b[0;32mimport\u001b[0m \u001b[0mpandas\u001b[0m \u001b[0;32mas\u001b[0m \u001b[0mpd\u001b[0m\u001b[0;34m\u001b[0m\u001b[0;34m\u001b[0m\u001b[0m\n\u001b[0;32m----> 2\u001b[0;31m \u001b[0mdf\u001b[0m\u001b[0;34m.\u001b[0m\u001b[0mcorr\u001b[0m\u001b[0;34m(\u001b[0m\u001b[0;34m)\u001b[0m   \u001b[0;31m# correlation matrix\u001b[0m\u001b[0;34m\u001b[0m\u001b[0;34m\u001b[0m\u001b[0m\n\u001b[0m",
            "\u001b[0;31mNameError\u001b[0m: name 'df' is not defined"
          ]
        }
      ]
    },
    {
      "cell_type": "markdown",
      "source": [
        "17=What is causation? Explain difference between correlation and causation with an example.\n",
        "\n",
        "=Causation: One variable directly affects another.\n",
        "\n",
        "Correlation: Two variables move together but may not cause each other.\n",
        "\n",
        "Example: Ice cream sales ↑ and drowning cases ↑ → correlation. Cause = hot weather."
      ],
      "metadata": {
        "id": "D4TS3_kdv5Lo"
      }
    },
    {
      "cell_type": "markdown",
      "source": [
        "18=What is an Optimizer? What are different types of optimizers? Explain each with an example.\n",
        "\n",
        "=Optimizer updates parameters to minimize loss.\n",
        "\n",
        "Types:\n",
        "\n",
        "SGD → Basic gradient descent\n",
        "\n",
        "Momentum → Uses past gradients for faster convergence\n",
        "\n",
        "Adam → Adaptive learning rates (most popular)\n",
        "\n",
        "RMSProp → Adjusts learning rate for each parameter"
      ],
      "metadata": {
        "id": "k75faE0Fv5DE"
      }
    },
    {
      "cell_type": "markdown",
      "source": [
        "19=What is sklearn.linear_model?\n",
        "\n",
        "=A scikit-learn module for linear models like LinearRegression, LogisticRegression, Ridge, Lasso."
      ],
      "metadata": {
        "id": "zOdkziuLv426"
      }
    },
    {
      "cell_type": "markdown",
      "source": [
        "20=What does model.fit() do? What arguments must be given?\n",
        "\n",
        "=Trains the model using training data.\n",
        "\n",
        "Arguments: X_train, y_train."
      ],
      "metadata": {
        "id": "fEMrCM8U2DOj"
      }
    },
    {
      "cell_type": "markdown",
      "source": [
        "21=What does model.predict() do? What arguments must be given?\n",
        "\n",
        "=Generates predictions from trained model.\n",
        "\n",
        "Arguments: X_test."
      ],
      "metadata": {
        "id": "Yno3rxqg2DCo"
      }
    },
    {
      "cell_type": "markdown",
      "source": [
        "22=What are continuous and categorical variables?\n",
        "\n",
        "=same as Q6 → Continuous = numeric, Categorical = labels."
      ],
      "metadata": {
        "id": "l4kzOyWD2C3y"
      }
    },
    {
      "cell_type": "markdown",
      "source": [
        "23=What is feature scaling? How does it help in Machine Learning?\n",
        "\n",
        "=Scaling puts all features on a similar scale (e.g., 0–1 or standard normal).\n",
        "\n",
        "Helps avoid dominance of large-value features and speeds up convergence."
      ],
      "metadata": {
        "id": "ixSEOFw92CYH"
      }
    },
    {
      "cell_type": "markdown",
      "source": [],
      "metadata": {
        "id": "C7fGYfaw2YXY"
      }
    },
    {
      "cell_type": "markdown",
      "source": [
        "24=How do we perform scaling in Python?\n",
        "\n",
        "=from sklearn.preprocessing import StandardScaler, MinMaxScaler\n",
        "scaler = StandardScaler()\n",
        "X_scaled = scaler.fit_transform(X)\n"
      ],
      "metadata": {
        "id": "qVbXH0MU2YzJ"
      }
    },
    {
      "cell_type": "markdown",
      "source": [
        "25=Explain data encoding?\n",
        "\n",
        "=Data encoding converts categorical values into numeric format.\n",
        "\n",
        "Types:\n",
        "\n",
        "Label Encoding\n",
        "\n",
        "One-Hot Encoding\n",
        "\n",
        "Ordinal Encoding"
      ],
      "metadata": {
        "id": "p77bO6gI2fqs"
      }
    },
    {
      "cell_type": "code",
      "execution_count": null,
      "metadata": {
        "id": "wz4K6uOvvyHe"
      },
      "outputs": [],
      "source": []
    }
  ]
}